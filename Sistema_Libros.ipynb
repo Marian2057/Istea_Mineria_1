{
 "cells": [
  {
   "cell_type": "code",
   "execution_count": 3,
   "id": "7b2bca45",
   "metadata": {},
   "outputs": [
    {
     "name": "stdout",
     "output_type": "stream",
     "text": [
      "1. Agregar Libro\n",
      "2. Buscar Libros por Género\n",
      "3. Recomendar Libro\n",
      "4. Salir\n",
      "Selecciona una opción: 2\n",
      "Ingresa el género: Romance\n",
      "Libros en el género: Orgullo y Prejuicio\n",
      "1. Agregar Libro\n",
      "2. Buscar Libros por Género\n",
      "3. Recomendar Libro\n",
      "4. Salir\n",
      "Selecciona una opción: 2\n",
      "Ingresa el género: Clásico\n",
      "Libros en el género: Crimen y Castigo, Don Quijote de la Mancha\n",
      "1. Agregar Libro\n",
      "2. Buscar Libros por Género\n",
      "3. Recomendar Libro\n",
      "4. Salir\n",
      "Selecciona una opción: 4\n",
      "¡Hasta luego!\n"
     ]
    }
   ],
   "source": [
    "import csv\n",
    "\n",
    "class Libro:\n",
    "    def __init__(self, titulo, autor, genero, puntuacion):\n",
    "        self.titulo = titulo\n",
    "        self.autor = autor\n",
    "        self.genero = genero\n",
    "        self.puntuacion = puntuacion\n",
    "\n",
    "# Crear objetos Libro\n",
    "libro1 = Libro(\"Cien años de soledad\", \"Gabriel García Márquez\", \"Ficción\", 4.5)\n",
    "libro2 = Libro(\"1984\", \"George Orwell\", \"Ciencia Ficción\", 4.3)\n",
    "libro3 = Libro(\"El Hobbit\", \"J.R.R. Tolkien\", \"Fantasía\", 4.7)\n",
    "libro4 = Libro(\"Orgullo y Prejuicio\", \"Jane Austen\", \"Romance\", 4.2)\n",
    "libro5 = Libro(\"Crimen y Castigo\", \"Fiódor Dostoyevski\", \"Clásico\", 4.4)\n",
    "libro6 = Libro(\"Los Juegos del Hambre\", \"Suzanne Collins\", \"Juvenil\", 4.1)\n",
    "libro7 = Libro(\"Don Quijote de la Mancha\", \"Miguel de Cervantes\", \"Clásico\", 4.6)\n",
    "libro8 = Libro(\"Harry Potter y la Piedra Filosofal\", \"J.K. Rowling\", \"Fantasía\", 4.8)\n",
    "libro9 = Libro(\"Los Pilares de la Tierra\", \"Ken Follett\", \"Histórica\", 4.4)\n",
    "libro10 = Libro(\"Cazadores de Sombras: Ciudad de Hueso\", \"Cassandra Clare\", \"Fantasía\", 4.0)\n",
    "\n",
    "# Agregar libros a la lista\n",
    "lista_libros = [libro1, libro2, libro3, libro4, libro5, libro6, libro7, libro8, libro9, libro10]\n",
    "\n",
    "def main():\n",
    "    while True:\n",
    "        print(\"1. Agregar Libro\")\n",
    "        print(\"2. Buscar Libros por Género\")\n",
    "        print(\"3. Recomendar Libro\")\n",
    "        print(\"4. Salir\")\n",
    "        \n",
    "        opcion = int(input(\"Selecciona una opción: \"))\n",
    "        \n",
    "        if opcion == 1:\n",
    "            titulo = input(\"Título del libro: \")\n",
    "            autor = input(\"Autor del libro: \")\n",
    "            genero = input(\"Género del libro: \")\n",
    "            puntuacion = float(input(\"Puntuación del libro: \"))\n",
    "            \n",
    "            nuevo_libro = Libro(titulo, autor, genero, puntuacion)\n",
    "            lista_libros.append(nuevo_libro)\n",
    "            print(\"Libro agregado exitosamente.\")\n",
    "        \n",
    "        elif opcion == 2:\n",
    "            genero_busqueda = input(\"Ingresa el género: \")\n",
    "            libros_genero = [libro.titulo for libro in lista_libros if libro.genero == genero_busqueda]\n",
    "            \n",
    "            if libros_genero:\n",
    "                print(\"Libros en el género:\", \", \".join(libros_genero))\n",
    "            else:\n",
    "                print(\"No se encontraron libros en ese género.\")\n",
    "        \n",
    "        elif opcion == 3:\n",
    "            genero_interes = input(\"Ingresa tu género de interés: \")\n",
    "            libros_genero_interes = [libro for libro in lista_libros if libro.genero == genero_interes]\n",
    "            \n",
    "            if libros_genero_interes:\n",
    "                libro_recomendado = max(libros_genero_interes, key=lambda libro: libro.puntuacion)\n",
    "                print(\"Libro recomendado:\", libro_recomendado.titulo)\n",
    "            else:\n",
    "                print(\"No se encontraron libros en ese género para recomendar.\")\n",
    "        \n",
    "        elif opcion == 4:\n",
    "            print(\"¡Hasta luego!\")\n",
    "            break\n",
    "        \n",
    "        else:\n",
    "            print(\"Opción inválida. Selecciona una opción válida.\")\n",
    "\n",
    "if __name__ == \"__main__\":\n",
    "    main()"
   ]
  },
  {
   "cell_type": "code",
   "execution_count": 2,
   "id": "9a4726e9",
   "metadata": {},
   "outputs": [
    {
     "ename": "FileNotFoundError",
     "evalue": "[Errno 2] No such file or directory: 'libros.csv'",
     "output_type": "error",
     "traceback": [
      "\u001b[1;31m---------------------------------------------------------------------------\u001b[0m",
      "\u001b[1;31mFileNotFoundError\u001b[0m                         Traceback (most recent call last)",
      "Cell \u001b[1;32mIn[2], line 13\u001b[0m\n\u001b[0;32m     10\u001b[0m             lista_libros\u001b[38;5;241m.\u001b[39mappend(libro)\n\u001b[0;32m     11\u001b[0m     \u001b[38;5;28;01mreturn\u001b[39;00m lista_libros\n\u001b[1;32m---> 13\u001b[0m lista_libros \u001b[38;5;241m=\u001b[39m leer_libros_desde_csv()\n",
      "Cell \u001b[1;32mIn[2], line 4\u001b[0m, in \u001b[0;36mleer_libros_desde_csv\u001b[1;34m()\u001b[0m\n\u001b[0;32m      2\u001b[0m \u001b[38;5;28;01mdef\u001b[39;00m \u001b[38;5;21mleer_libros_desde_csv\u001b[39m():\n\u001b[0;32m      3\u001b[0m     lista_libros \u001b[38;5;241m=\u001b[39m []\n\u001b[1;32m----> 4\u001b[0m     \u001b[38;5;28;01mwith\u001b[39;00m \u001b[38;5;28mopen\u001b[39m(\u001b[38;5;124m\"\u001b[39m\u001b[38;5;124mlibros.csv\u001b[39m\u001b[38;5;124m\"\u001b[39m, \u001b[38;5;124m\"\u001b[39m\u001b[38;5;124mr\u001b[39m\u001b[38;5;124m\"\u001b[39m) \u001b[38;5;28;01mas\u001b[39;00m archivo_csv:\n\u001b[0;32m      5\u001b[0m         lector_csv \u001b[38;5;241m=\u001b[39m csv\u001b[38;5;241m.\u001b[39mreader(archivo_csv)\n\u001b[0;32m      6\u001b[0m         \u001b[38;5;28;01mfor\u001b[39;00m fila \u001b[38;5;129;01min\u001b[39;00m lector_csv:\n",
      "File \u001b[1;32m~\\AppData\\Local\\anaconda3\\Lib\\site-packages\\IPython\\core\\interactiveshell.py:284\u001b[0m, in \u001b[0;36m_modified_open\u001b[1;34m(file, *args, **kwargs)\u001b[0m\n\u001b[0;32m    277\u001b[0m \u001b[38;5;28;01mif\u001b[39;00m file \u001b[38;5;129;01min\u001b[39;00m {\u001b[38;5;241m0\u001b[39m, \u001b[38;5;241m1\u001b[39m, \u001b[38;5;241m2\u001b[39m}:\n\u001b[0;32m    278\u001b[0m     \u001b[38;5;28;01mraise\u001b[39;00m \u001b[38;5;167;01mValueError\u001b[39;00m(\n\u001b[0;32m    279\u001b[0m         \u001b[38;5;124mf\u001b[39m\u001b[38;5;124m\"\u001b[39m\u001b[38;5;124mIPython won\u001b[39m\u001b[38;5;124m'\u001b[39m\u001b[38;5;124mt let you open fd=\u001b[39m\u001b[38;5;132;01m{\u001b[39;00mfile\u001b[38;5;132;01m}\u001b[39;00m\u001b[38;5;124m by default \u001b[39m\u001b[38;5;124m\"\u001b[39m\n\u001b[0;32m    280\u001b[0m         \u001b[38;5;124m\"\u001b[39m\u001b[38;5;124mas it is likely to crash IPython. If you know what you are doing, \u001b[39m\u001b[38;5;124m\"\u001b[39m\n\u001b[0;32m    281\u001b[0m         \u001b[38;5;124m\"\u001b[39m\u001b[38;5;124myou can use builtins\u001b[39m\u001b[38;5;124m'\u001b[39m\u001b[38;5;124m open.\u001b[39m\u001b[38;5;124m\"\u001b[39m\n\u001b[0;32m    282\u001b[0m     )\n\u001b[1;32m--> 284\u001b[0m \u001b[38;5;28;01mreturn\u001b[39;00m io_open(file, \u001b[38;5;241m*\u001b[39margs, \u001b[38;5;241m*\u001b[39m\u001b[38;5;241m*\u001b[39mkwargs)\n",
      "\u001b[1;31mFileNotFoundError\u001b[0m: [Errno 2] No such file or directory: 'libros.csv'"
     ]
    }
   ],
   "source": [
    "# Lee los datos desde el archivo CSV\n",
    "def leer_libros_desde_csv():\n",
    "    lista_libros = []\n",
    "    with open(\"libros.csv\", \"r\") as archivo_csv:\n",
    "        lector_csv = csv.reader(archivo_csv)\n",
    "        for fila in lector_csv:\n",
    "            titulo, autor, genero, puntuacion = fila\n",
    "            puntuacion = float(puntuacion)\n",
    "            libro = Libro(titulo, autor, genero, puntuacion)\n",
    "            lista_libros.append(libro)\n",
    "    return lista_libros\n",
    "\n",
    "lista_libros = leer_libros_desde_csv()"
   ]
  },
  {
   "cell_type": "code",
   "execution_count": null,
   "id": "2192f510",
   "metadata": {},
   "outputs": [],
   "source": []
  }
 ],
 "metadata": {
  "kernelspec": {
   "display_name": "Python 3 (ipykernel)",
   "language": "python",
   "name": "python3"
  },
  "language_info": {
   "codemirror_mode": {
    "name": "ipython",
    "version": 3
   },
   "file_extension": ".py",
   "mimetype": "text/x-python",
   "name": "python",
   "nbconvert_exporter": "python",
   "pygments_lexer": "ipython3",
   "version": "3.11.4"
  }
 },
 "nbformat": 4,
 "nbformat_minor": 5
}
